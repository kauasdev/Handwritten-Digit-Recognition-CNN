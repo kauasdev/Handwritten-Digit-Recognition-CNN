{
 "cells": [
  {
   "cell_type": "code",
   "execution_count": 6,
   "id": "ff38cd6b",
   "metadata": {},
   "outputs": [
    {
     "name": "stdout",
     "output_type": "stream",
     "text": [
      "\n",
      "Python version: <function python_version at 0x7f2872876b90>\n",
      "Tensorflow version: 2.12.0\n",
      "Keras version: 2.12.0\n",
      "\n"
     ]
    }
   ],
   "source": [
    "# Imports\n",
    "import tensorflow as tf\n",
    "import matplotlib.pyplot as plt\n",
    "import numpy as np\n",
    "import pandas as pd\n",
    "import math\n",
    "import datetime\n",
    "import platform\n",
    "\n",
    "print(f\"\"\"\n",
    "Python version: {platform.python_version}\n",
    "Tensorflow version: {tf.__version__}\n",
    "Keras version: {tf.keras.__version__}\n",
    "\"\"\")"
   ]
  },
  {
   "cell_type": "markdown",
   "id": "0fdf12e0",
   "metadata": {},
   "source": [
    "## Configuring Tensorboard\n",
    "\n",
    "We will use Tensorboard to debug the model later."
   ]
  },
  {
   "cell_type": "code",
   "execution_count": 8,
   "id": "116f4f8c",
   "metadata": {},
   "outputs": [
    {
     "name": "stdout",
     "output_type": "stream",
     "text": [
      "The tensorboard extension is already loaded. To reload it, use:\n",
      "  %reload_ext tensorboard\n"
     ]
    }
   ],
   "source": [
    "# Load the Tensorboard notebook extension\n",
    "# %reload_ext tensorboard\n",
    "%load_ext tensorboard"
   ]
  },
  {
   "cell_type": "code",
   "execution_count": 9,
   "id": "8800b13a",
   "metadata": {},
   "outputs": [],
   "source": [
    "# Clear any logs from previous runs\n",
    "!rm -rf ./.logs/"
   ]
  },
  {
   "cell_type": "markdown",
   "id": "c7d99c1f",
   "metadata": {},
   "source": [
    "## Load the data\n",
    "\n",
    "The training dataset consists of 60000 28X28px images of hand-written digits from `0` to `9`.\n",
    "<br>\n",
    "The test dataset consists of 10000 28X28px images."
   ]
  },
  {
   "cell_type": "code",
   "execution_count": 10,
   "id": "4c5ac7b0",
   "metadata": {},
   "outputs": [],
   "source": [
    "mnist_dataset = tf.keras.datasets.mnist\n",
    "(x_train, y_train), (x_test, y_test) = mnist_dataset.load_data()"
   ]
  },
  {
   "cell_type": "code",
   "execution_count": 11,
   "id": "df44924d",
   "metadata": {},
   "outputs": [
    {
     "name": "stdout",
     "output_type": "stream",
     "text": [
      "\n",
      "x_train: (60000, 28, 28)\n",
      "y_train: (60000,)\n",
      "x_test: (10000, 28, 28)\n",
      "y_test: (10000,)\n",
      "\n"
     ]
    }
   ],
   "source": [
    "print(f\"\"\"\n",
    "x_train: {x_train.shape}\n",
    "y_train: {y_train.shape}\n",
    "x_test: {x_test.shape}\n",
    "y_test: {y_test.shape}\n",
    "\"\"\")"
   ]
  },
  {
   "cell_type": "code",
   "execution_count": 12,
   "id": "28f3c266",
   "metadata": {},
   "outputs": [
    {
     "name": "stdout",
     "output_type": "stream",
     "text": [
      "\n",
      "Image width: 28\n",
      "Image height: 28\n",
      "Image channels: 1\n",
      "\n"
     ]
    }
   ],
   "source": [
    "# Save image parameters to the constansts that will use later for data re-shaping and for model training\n",
    "(_, IMG_WIDTH, IMG_HEIGHT) = x_train.shape\n",
    "IMG_CHANNELS = 1\n",
    "\n",
    "print(f\"\"\"\n",
    "Image width: {IMG_WIDTH}\n",
    "Image height: {IMG_HEIGHT}\n",
    "Image channels: {IMG_CHANNELS}\n",
    "\"\"\")"
   ]
  },
  {
   "cell_type": "markdown",
   "id": "a40f42c0",
   "metadata": {},
   "source": [
    "## Explore tha data\n",
    "\n",
    "Here is how each image in the dataset looks like. It is a 28x28 matrix of integers (from `0` to `255`). Each integer represents a color of a pixel."
   ]
  },
  {
   "cell_type": "code",
   "execution_count": 16,
   "id": "f5e66666",
   "metadata": {},
   "outputs": [
    {
     "data": {
      "text/plain": [
       "7"
      ]
     },
     "execution_count": 16,
     "metadata": {},
     "output_type": "execute_result"
    }
   ],
   "source": [
    "list(y_train).index(3)"
   ]
  },
  {
   "cell_type": "code",
   "execution_count": 19,
   "id": "0c077612",
   "metadata": {},
   "outputs": [
    {
     "data": {
      "image/png": "[encoded data removed]",
      "text/plain": [
       "<Figure size 640x480 with 1 Axes>"
      ]
     },
     "metadata": {},
     "output_type": "display_data"
    }
   ],
   "source": [
    "plt.imshow(x_train[7], cmap=plt.cm.binary)\n",
    "plt.show()"
   ]
  },
  {
   "cell_type": "code",
   "execution_count": 13,
   "id": "ce49ce87",
   "metadata": {},
   "outputs": [
    {
     "data": {
      "text/html": [
       "<div>\n",
       "<style scoped>\n",
       "    .dataframe tbody tr th:only-of-type {\n",
       "        vertical-align: middle;\n",
       "    }\n",
       "\n",
       "    .dataframe tbody tr th {\n",
       "        vertical-align: top;\n",
       "    }\n",
       "\n",
       "    .dataframe thead th {\n",
       "        text-align: right;\n",
       "    }\n",
       "</style>\n",
       "<table border=\"1\" class=\"dataframe\">\n",
       "  <thead>\n",
       "    <tr style=\"text-align: right;\">\n",
       "      <th></th>\n",
       "      <th>0</th>\n",
       "      <th>1</th>\n",
       "      <th>2</th>\n",
       "      <th>3</th>\n",
       "      <th>4</th>\n",
       "      <th>5</th>\n",
       "      <th>6</th>\n",
       "      <th>7</th>\n",
       "      <th>8</th>\n",
       "      <th>9</th>\n",
       "      <th>...</th>\n",
       "      <th>18</th>\n",
       "      <th>19</th>\n",
       "      <th>20</th>\n",
       "      <th>21</th>\n",
       "      <th>22</th>\n",
       "      <th>23</th>\n",
       "      <th>24</th>\n",
       "      <th>25</th>\n",
       "      <th>26</th>\n",
       "      <th>27</th>\n",
       "    </tr>\n",
       "  </thead>\n",
       "  <tbody>\n",
       "    <tr>\n",
       "      <th>0</th>\n",
       "      <td>0</td>\n",
       "      <td>0</td>\n",
       "      <td>0</td>\n",
       "      <td>0</td>\n",
       "      <td>0</td>\n",
       "      <td>0</td>\n",
       "      <td>0</td>\n",
       "      <td>0</td>\n",
       "      <td>0</td>\n",
       "      <td>0</td>\n",
       "      <td>...</td>\n",
       "      <td>0</td>\n",
       "      <td>0</td>\n",
       "      <td>0</td>\n",
       "      <td>0</td>\n",
       "      <td>0</td>\n",
       "      <td>0</td>\n",
       "      <td>0</td>\n",
       "      <td>0</td>\n",
       "      <td>0</td>\n",
       "      <td>0</td>\n",
       "    </tr>\n",
       "    <tr>\n",
       "      <th>1</th>\n",
       "      <td>0</td>\n",
       "      <td>0</td>\n",
       "      <td>0</td>\n",
       "      <td>0</td>\n",
       "      <td>0</td>\n",
       "      <td>0</td>\n",
       "      <td>0</td>\n",
       "      <td>0</td>\n",
       "      <td>0</td>\n",
       "      <td>0</td>\n",
       "      <td>...</td>\n",
       "      <td>0</td>\n",
       "      <td>0</td>\n",
       "      <td>0</td>\n",
       "      <td>0</td>\n",
       "      <td>0</td>\n",
       "      <td>0</td>\n",
       "      <td>0</td>\n",
       "      <td>0</td>\n",
       "      <td>0</td>\n",
       "      <td>0</td>\n",
       "    </tr>\n",
       "    <tr>\n",
       "      <th>2</th>\n",
       "      <td>0</td>\n",
       "      <td>0</td>\n",
       "      <td>0</td>\n",
       "      <td>0</td>\n",
       "      <td>0</td>\n",
       "      <td>0</td>\n",
       "      <td>0</td>\n",
       "      <td>0</td>\n",
       "      <td>0</td>\n",
       "      <td>0</td>\n",
       "      <td>...</td>\n",
       "      <td>0</td>\n",
       "      <td>0</td>\n",
       "      <td>0</td>\n",
       "      <td>0</td>\n",
       "      <td>0</td>\n",
       "      <td>0</td>\n",
       "      <td>0</td>\n",
       "      <td>0</td>\n",
       "      <td>0</td>\n",
       "      <td>0</td>\n",
       "    </tr>\n",
       "    <tr>\n",
       "      <th>3</th>\n",
       "      <td>0</td>\n",
       "      <td>0</td>\n",
       "      <td>0</td>\n",
       "      <td>0</td>\n",
       "      <td>0</td>\n",
       "      <td>0</td>\n",
       "      <td>0</td>\n",
       "      <td>0</td>\n",
       "      <td>0</td>\n",
       "      <td>0</td>\n",
       "      <td>...</td>\n",
       "      <td>0</td>\n",
       "      <td>0</td>\n",
       "      <td>0</td>\n",
       "      <td>0</td>\n",
       "      <td>0</td>\n",
       "      <td>0</td>\n",
       "      <td>0</td>\n",
       "      <td>0</td>\n",
       "      <td>0</td>\n",
       "      <td>0</td>\n",
       "    </tr>\n",
       "    <tr>\n",
       "      <th>4</th>\n",
       "      <td>0</td>\n",
       "      <td>0</td>\n",
       "      <td>0</td>\n",
       "      <td>0</td>\n",
       "      <td>0</td>\n",
       "      <td>0</td>\n",
       "      <td>0</td>\n",
       "      <td>0</td>\n",
       "      <td>0</td>\n",
       "      <td>0</td>\n",
       "      <td>...</td>\n",
       "      <td>0</td>\n",
       "      <td>0</td>\n",
       "      <td>0</td>\n",
       "      <td>0</td>\n",
       "      <td>0</td>\n",
       "      <td>0</td>\n",
       "      <td>0</td>\n",
       "      <td>0</td>\n",
       "      <td>0</td>\n",
       "      <td>0</td>\n",
       "    </tr>\n",
       "    <tr>\n",
       "      <th>5</th>\n",
       "      <td>0</td>\n",
       "      <td>0</td>\n",
       "      <td>0</td>\n",
       "      <td>0</td>\n",
       "      <td>0</td>\n",
       "      <td>0</td>\n",
       "      <td>0</td>\n",
       "      <td>0</td>\n",
       "      <td>0</td>\n",
       "      <td>0</td>\n",
       "      <td>...</td>\n",
       "      <td>175</td>\n",
       "      <td>26</td>\n",
       "      <td>166</td>\n",
       "      <td>255</td>\n",
       "      <td>247</td>\n",
       "      <td>127</td>\n",
       "      <td>0</td>\n",
       "      <td>0</td>\n",
       "      <td>0</td>\n",
       "      <td>0</td>\n",
       "    </tr>\n",
       "    <tr>\n",
       "      <th>6</th>\n",
       "      <td>0</td>\n",
       "      <td>0</td>\n",
       "      <td>0</td>\n",
       "      <td>0</td>\n",
       "      <td>0</td>\n",
       "      <td>0</td>\n",
       "      <td>0</td>\n",
       "      <td>0</td>\n",
       "      <td>30</td>\n",
       "      <td>36</td>\n",
       "      <td>...</td>\n",
       "      <td>225</td>\n",
       "      <td>172</td>\n",
       "      <td>253</td>\n",
       "      <td>242</td>\n",
       "      <td>195</td>\n",
       "      <td>64</td>\n",
       "      <td>0</td>\n",
       "      <td>0</td>\n",
       "      <td>0</td>\n",
       "      <td>0</td>\n",
       "    </tr>\n",
       "    <tr>\n",
       "      <th>7</th>\n",
       "      <td>0</td>\n",
       "      <td>0</td>\n",
       "      <td>0</td>\n",
       "      <td>0</td>\n",
       "      <td>0</td>\n",
       "      <td>0</td>\n",
       "      <td>0</td>\n",
       "      <td>49</td>\n",
       "      <td>238</td>\n",
       "      <td>253</td>\n",
       "      <td>...</td>\n",
       "      <td>93</td>\n",
       "      <td>82</td>\n",
       "      <td>82</td>\n",
       "      <td>56</td>\n",
       "      <td>39</td>\n",
       "      <td>0</td>\n",
       "      <td>0</td>\n",
       "      <td>0</td>\n",
       "      <td>0</td>\n",
       "      <td>0</td>\n",
       "    </tr>\n",
       "    <tr>\n",
       "      <th>8</th>\n",
       "      <td>0</td>\n",
       "      <td>0</td>\n",
       "      <td>0</td>\n",
       "      <td>0</td>\n",
       "      <td>0</td>\n",
       "      <td>0</td>\n",
       "      <td>0</td>\n",
       "      <td>18</td>\n",
       "      <td>219</td>\n",
       "      <td>253</td>\n",
       "      <td>...</td>\n",
       "      <td>0</td>\n",
       "      <td>0</td>\n",
       "      <td>0</td>\n",
       "      <td>0</td>\n",
       "      <td>0</td>\n",
       "      <td>0</td>\n",
       "      <td>0</td>\n",
       "      <td>0</td>\n",
       "      <td>0</td>\n",
       "      <td>0</td>\n",
       "    </tr>\n",
       "    <tr>\n",
       "      <th>9</th>\n",
       "      <td>0</td>\n",
       "      <td>0</td>\n",
       "      <td>0</td>\n",
       "      <td>0</td>\n",
       "      <td>0</td>\n",
       "      <td>0</td>\n",
       "      <td>0</td>\n",
       "      <td>0</td>\n",
       "      <td>80</td>\n",
       "      <td>156</td>\n",
       "      <td>...</td>\n",
       "      <td>0</td>\n",
       "      <td>0</td>\n",
       "      <td>0</td>\n",
       "      <td>0</td>\n",
       "      <td>0</td>\n",
       "      <td>0</td>\n",
       "      <td>0</td>\n",
       "      <td>0</td>\n",
       "      <td>0</td>\n",
       "      <td>0</td>\n",
       "    </tr>\n",
       "    <tr>\n",
       "      <th>10</th>\n",
       "      <td>0</td>\n",
       "      <td>0</td>\n",
       "      <td>0</td>\n",
       "      <td>0</td>\n",
       "      <td>0</td>\n",
       "      <td>0</td>\n",
       "      <td>0</td>\n",
       "      <td>0</td>\n",
       "      <td>0</td>\n",
       "      <td>14</td>\n",
       "      <td>...</td>\n",
       "      <td>0</td>\n",
       "      <td>0</td>\n",
       "      <td>0</td>\n",
       "      <td>0</td>\n",
       "      <td>0</td>\n",
       "      <td>0</td>\n",
       "      <td>0</td>\n",
       "      <td>0</td>\n",
       "      <td>0</td>\n",
       "      <td>0</td>\n",
       "    </tr>\n",
       "    <tr>\n",
       "      <th>11</th>\n",
       "      <td>0</td>\n",
       "      <td>0</td>\n",
       "      <td>0</td>\n",
       "      <td>0</td>\n",
       "      <td>0</td>\n",
       "      <td>0</td>\n",
       "      <td>0</td>\n",
       "      <td>0</td>\n",
       "      <td>0</td>\n",
       "      <td>0</td>\n",
       "      <td>...</td>\n",
       "      <td>0</td>\n",
       "      <td>0</td>\n",
       "      <td>0</td>\n",
       "      <td>0</td>\n",
       "      <td>0</td>\n",
       "      <td>0</td>\n",
       "      <td>0</td>\n",
       "      <td>0</td>\n",
       "      <td>0</td>\n",
       "      <td>0</td>\n",
       "    </tr>\n",
       "    <tr>\n",
       "      <th>12</th>\n",
       "      <td>0</td>\n",
       "      <td>0</td>\n",
       "      <td>0</td>\n",
       "      <td>0</td>\n",
       "      <td>0</td>\n",
       "      <td>0</td>\n",
       "      <td>0</td>\n",
       "      <td>0</td>\n",
       "      <td>0</td>\n",
       "      <td>0</td>\n",
       "      <td>...</td>\n",
       "      <td>0</td>\n",
       "      <td>0</td>\n",
       "      <td>0</td>\n",
       "      <td>0</td>\n",
       "      <td>0</td>\n",
       "      <td>0</td>\n",
       "      <td>0</td>\n",
       "      <td>0</td>\n",
       "      <td>0</td>\n",
       "      <td>0</td>\n",
       "    </tr>\n",
       "    <tr>\n",
       "      <th>13</th>\n",
       "      <td>0</td>\n",
       "      <td>0</td>\n",
       "      <td>0</td>\n",
       "      <td>0</td>\n",
       "      <td>0</td>\n",
       "      <td>0</td>\n",
       "      <td>0</td>\n",
       "      <td>0</td>\n",
       "      <td>0</td>\n",
       "      <td>0</td>\n",
       "      <td>...</td>\n",
       "      <td>0</td>\n",
       "      <td>0</td>\n",
       "      <td>0</td>\n",
       "      <td>0</td>\n",
       "      <td>0</td>\n",
       "      <td>0</td>\n",
       "      <td>0</td>\n",
       "      <td>0</td>\n",
       "      <td>0</td>\n",
       "      <td>0</td>\n",
       "    </tr>\n",
       "    <tr>\n",
       "      <th>14</th>\n",
       "      <td>0</td>\n",
       "      <td>0</td>\n",
       "      <td>0</td>\n",
       "      <td>0</td>\n",
       "      <td>0</td>\n",
       "      <td>0</td>\n",
       "      <td>0</td>\n",
       "      <td>0</td>\n",
       "      <td>0</td>\n",
       "      <td>0</td>\n",
       "      <td>...</td>\n",
       "      <td>25</td>\n",
       "      <td>0</td>\n",
       "      <td>0</td>\n",
       "      <td>0</td>\n",
       "      <td>0</td>\n",
       "      <td>0</td>\n",
       "      <td>0</td>\n",
       "      <td>0</td>\n",
       "      <td>0</td>\n",
       "      <td>0</td>\n",
       "    </tr>\n",
       "    <tr>\n",
       "      <th>15</th>\n",
       "      <td>0</td>\n",
       "      <td>0</td>\n",
       "      <td>0</td>\n",
       "      <td>0</td>\n",
       "      <td>0</td>\n",
       "      <td>0</td>\n",
       "      <td>0</td>\n",
       "      <td>0</td>\n",
       "      <td>0</td>\n",
       "      <td>0</td>\n",
       "      <td>...</td>\n",
       "      <td>150</td>\n",
       "      <td>27</td>\n",
       "      <td>0</td>\n",
       "      <td>0</td>\n",
       "      <td>0</td>\n",
       "      <td>0</td>\n",
       "      <td>0</td>\n",
       "      <td>0</td>\n",
       "      <td>0</td>\n",
       "      <td>0</td>\n",
       "    </tr>\n",
       "    <tr>\n",
       "      <th>16</th>\n",
       "      <td>0</td>\n",
       "      <td>0</td>\n",
       "      <td>0</td>\n",
       "      <td>0</td>\n",
       "      <td>0</td>\n",
       "      <td>0</td>\n",
       "      <td>0</td>\n",
       "      <td>0</td>\n",
       "      <td>0</td>\n",
       "      <td>0</td>\n",
       "      <td>...</td>\n",
       "      <td>253</td>\n",
       "      <td>187</td>\n",
       "      <td>0</td>\n",
       "      <td>0</td>\n",
       "      <td>0</td>\n",
       "      <td>0</td>\n",
       "      <td>0</td>\n",
       "      <td>0</td>\n",
       "      <td>0</td>\n",
       "      <td>0</td>\n",
       "    </tr>\n",
       "    <tr>\n",
       "      <th>17</th>\n",
       "      <td>0</td>\n",
       "      <td>0</td>\n",
       "      <td>0</td>\n",
       "      <td>0</td>\n",
       "      <td>0</td>\n",
       "      <td>0</td>\n",
       "      <td>0</td>\n",
       "      <td>0</td>\n",
       "      <td>0</td>\n",
       "      <td>0</td>\n",
       "      <td>...</td>\n",
       "      <td>253</td>\n",
       "      <td>249</td>\n",
       "      <td>64</td>\n",
       "      <td>0</td>\n",
       "      <td>0</td>\n",
       "      <td>0</td>\n",
       "      <td>0</td>\n",
       "      <td>0</td>\n",
       "      <td>0</td>\n",
       "      <td>0</td>\n",
       "    </tr>\n",
       "    <tr>\n",
       "      <th>18</th>\n",
       "      <td>0</td>\n",
       "      <td>0</td>\n",
       "      <td>0</td>\n",
       "      <td>0</td>\n",
       "      <td>0</td>\n",
       "      <td>0</td>\n",
       "      <td>0</td>\n",
       "      <td>0</td>\n",
       "      <td>0</td>\n",
       "      <td>0</td>\n",
       "      <td>...</td>\n",
       "      <td>253</td>\n",
       "      <td>207</td>\n",
       "      <td>2</td>\n",
       "      <td>0</td>\n",
       "      <td>0</td>\n",
       "      <td>0</td>\n",
       "      <td>0</td>\n",
       "      <td>0</td>\n",
       "      <td>0</td>\n",
       "      <td>0</td>\n",
       "    </tr>\n",
       "    <tr>\n",
       "      <th>19</th>\n",
       "      <td>0</td>\n",
       "      <td>0</td>\n",
       "      <td>0</td>\n",
       "      <td>0</td>\n",
       "      <td>0</td>\n",
       "      <td>0</td>\n",
       "      <td>0</td>\n",
       "      <td>0</td>\n",
       "      <td>0</td>\n",
       "      <td>0</td>\n",
       "      <td>...</td>\n",
       "      <td>250</td>\n",
       "      <td>182</td>\n",
       "      <td>0</td>\n",
       "      <td>0</td>\n",
       "      <td>0</td>\n",
       "      <td>0</td>\n",
       "      <td>0</td>\n",
       "      <td>0</td>\n",
       "      <td>0</td>\n",
       "      <td>0</td>\n",
       "    </tr>\n",
       "    <tr>\n",
       "      <th>20</th>\n",
       "      <td>0</td>\n",
       "      <td>0</td>\n",
       "      <td>0</td>\n",
       "      <td>0</td>\n",
       "      <td>0</td>\n",
       "      <td>0</td>\n",
       "      <td>0</td>\n",
       "      <td>0</td>\n",
       "      <td>0</td>\n",
       "      <td>0</td>\n",
       "      <td>...</td>\n",
       "      <td>78</td>\n",
       "      <td>0</td>\n",
       "      <td>0</td>\n",
       "      <td>0</td>\n",
       "      <td>0</td>\n",
       "      <td>0</td>\n",
       "      <td>0</td>\n",
       "      <td>0</td>\n",
       "      <td>0</td>\n",
       "      <td>0</td>\n",
       "    </tr>\n",
       "    <tr>\n",
       "      <th>21</th>\n",
       "      <td>0</td>\n",
       "      <td>0</td>\n",
       "      <td>0</td>\n",
       "      <td>0</td>\n",
       "      <td>0</td>\n",
       "      <td>0</td>\n",
       "      <td>0</td>\n",
       "      <td>0</td>\n",
       "      <td>23</td>\n",
       "      <td>66</td>\n",
       "      <td>...</td>\n",
       "      <td>0</td>\n",
       "      <td>0</td>\n",
       "      <td>0</td>\n",
       "      <td>0</td>\n",
       "      <td>0</td>\n",
       "      <td>0</td>\n",
       "      <td>0</td>\n",
       "      <td>0</td>\n",
       "      <td>0</td>\n",
       "      <td>0</td>\n",
       "    </tr>\n",
       "    <tr>\n",
       "      <th>22</th>\n",
       "      <td>0</td>\n",
       "      <td>0</td>\n",
       "      <td>0</td>\n",
       "      <td>0</td>\n",
       "      <td>0</td>\n",
       "      <td>0</td>\n",
       "      <td>18</td>\n",
       "      <td>171</td>\n",
       "      <td>219</td>\n",
       "      <td>253</td>\n",
       "      <td>...</td>\n",
       "      <td>0</td>\n",
       "      <td>0</td>\n",
       "      <td>0</td>\n",
       "      <td>0</td>\n",
       "      <td>0</td>\n",
       "      <td>0</td>\n",
       "      <td>0</td>\n",
       "      <td>0</td>\n",
       "      <td>0</td>\n",
       "      <td>0</td>\n",
       "    </tr>\n",
       "    <tr>\n",
       "      <th>23</th>\n",
       "      <td>0</td>\n",
       "      <td>0</td>\n",
       "      <td>0</td>\n",
       "      <td>0</td>\n",
       "      <td>55</td>\n",
       "      <td>172</td>\n",
       "      <td>226</td>\n",
       "      <td>253</td>\n",
       "      <td>253</td>\n",
       "      <td>253</td>\n",
       "      <td>...</td>\n",
       "      <td>0</td>\n",
       "      <td>0</td>\n",
       "      <td>0</td>\n",
       "      <td>0</td>\n",
       "      <td>0</td>\n",
       "      <td>0</td>\n",
       "      <td>0</td>\n",
       "      <td>0</td>\n",
       "      <td>0</td>\n",
       "      <td>0</td>\n",
       "    </tr>\n",
       "    <tr>\n",
       "      <th>24</th>\n",
       "      <td>0</td>\n",
       "      <td>0</td>\n",
       "      <td>0</td>\n",
       "      <td>0</td>\n",
       "      <td>136</td>\n",
       "      <td>253</td>\n",
       "      <td>253</td>\n",
       "      <td>253</td>\n",
       "      <td>212</td>\n",
       "      <td>135</td>\n",
       "      <td>...</td>\n",
       "      <td>0</td>\n",
       "      <td>0</td>\n",
       "      <td>0</td>\n",
       "      <td>0</td>\n",
       "      <td>0</td>\n",
       "      <td>0</td>\n",
       "      <td>0</td>\n",
       "      <td>0</td>\n",
       "      <td>0</td>\n",
       "      <td>0</td>\n",
       "    </tr>\n",
       "    <tr>\n",
       "      <th>25</th>\n",
       "      <td>0</td>\n",
       "      <td>0</td>\n",
       "      <td>0</td>\n",
       "      <td>0</td>\n",
       "      <td>0</td>\n",
       "      <td>0</td>\n",
       "      <td>0</td>\n",
       "      <td>0</td>\n",
       "      <td>0</td>\n",
       "      <td>0</td>\n",
       "      <td>...</td>\n",
       "      <td>0</td>\n",
       "      <td>0</td>\n",
       "      <td>0</td>\n",
       "      <td>0</td>\n",
       "      <td>0</td>\n",
       "      <td>0</td>\n",
       "      <td>0</td>\n",
       "      <td>0</td>\n",
       "      <td>0</td>\n",
       "      <td>0</td>\n",
       "    </tr>\n",
       "    <tr>\n",
       "      <th>26</th>\n",
       "      <td>0</td>\n",
       "      <td>0</td>\n",
       "      <td>0</td>\n",
       "      <td>0</td>\n",
       "      <td>0</td>\n",
       "      <td>0</td>\n",
       "      <td>0</td>\n",
       "      <td>0</td>\n",
       "      <td>0</td>\n",
       "      <td>0</td>\n",
       "      <td>...</td>\n",
       "      <td>0</td>\n",
       "      <td>0</td>\n",
       "      <td>0</td>\n",
       "      <td>0</td>\n",
       "      <td>0</td>\n",
       "      <td>0</td>\n",
       "      <td>0</td>\n",
       "      <td>0</td>\n",
       "      <td>0</td>\n",
       "      <td>0</td>\n",
       "    </tr>\n",
       "    <tr>\n",
       "      <th>27</th>\n",
       "      <td>0</td>\n",
       "      <td>0</td>\n",
       "      <td>0</td>\n",
       "      <td>0</td>\n",
       "      <td>0</td>\n",
       "      <td>0</td>\n",
       "      <td>0</td>\n",
       "      <td>0</td>\n",
       "      <td>0</td>\n",
       "      <td>0</td>\n",
       "      <td>...</td>\n",
       "      <td>0</td>\n",
       "      <td>0</td>\n",
       "      <td>0</td>\n",
       "      <td>0</td>\n",
       "      <td>0</td>\n",
       "      <td>0</td>\n",
       "      <td>0</td>\n",
       "      <td>0</td>\n",
       "      <td>0</td>\n",
       "      <td>0</td>\n",
       "    </tr>\n",
       "  </tbody>\n",
       "</table>\n",
       "<p>28 rows × 28 columns</p>\n",
       "</div>"
      ],
      "text/plain": [
       "    0   1   2   3    4    5    6    7    8    9   ...   18   19   20   21  \\\n",
       "0    0   0   0   0    0    0    0    0    0    0  ...    0    0    0    0   \n",
       "1    0   0   0   0    0    0    0    0    0    0  ...    0    0    0    0   \n",
       "2    0   0   0   0    0    0    0    0    0    0  ...    0    0    0    0   \n",
       "3    0   0   0   0    0    0    0    0    0    0  ...    0    0    0    0   \n",
       "4    0   0   0   0    0    0    0    0    0    0  ...    0    0    0    0   \n",
       "5    0   0   0   0    0    0    0    0    0    0  ...  175   26  166  255   \n",
       "6    0   0   0   0    0    0    0    0   30   36  ...  225  172  253  242   \n",
       "7    0   0   0   0    0    0    0   49  238  253  ...   93   82   82   56   \n",
       "8    0   0   0   0    0    0    0   18  219  253  ...    0    0    0    0   \n",
       "9    0   0   0   0    0    0    0    0   80  156  ...    0    0    0    0   \n",
       "10   0   0   0   0    0    0    0    0    0   14  ...    0    0    0    0   \n",
       "11   0   0   0   0    0    0    0    0    0    0  ...    0    0    0    0   \n",
       "12   0   0   0   0    0    0    0    0    0    0  ...    0    0    0    0   \n",
       "13   0   0   0   0    0    0    0    0    0    0  ...    0    0    0    0   \n",
       "14   0   0   0   0    0    0    0    0    0    0  ...   25    0    0    0   \n",
       "15   0   0   0   0    0    0    0    0    0    0  ...  150   27    0    0   \n",
       "16   0   0   0   0    0    0    0    0    0    0  ...  253  187    0    0   \n",
       "17   0   0   0   0    0    0    0    0    0    0  ...  253  249   64    0   \n",
       "18   0   0   0   0    0    0    0    0    0    0  ...  253  207    2    0   \n",
       "19   0   0   0   0    0    0    0    0    0    0  ...  250  182    0    0   \n",
       "20   0   0   0   0    0    0    0    0    0    0  ...   78    0    0    0   \n",
       "21   0   0   0   0    0    0    0    0   23   66  ...    0    0    0    0   \n",
       "22   0   0   0   0    0    0   18  171  219  253  ...    0    0    0    0   \n",
       "23   0   0   0   0   55  172  226  253  253  253  ...    0    0    0    0   \n",
       "24   0   0   0   0  136  253  253  253  212  135  ...    0    0    0    0   \n",
       "25   0   0   0   0    0    0    0    0    0    0  ...    0    0    0    0   \n",
       "26   0   0   0   0    0    0    0    0    0    0  ...    0    0    0    0   \n",
       "27   0   0   0   0    0    0    0    0    0    0  ...    0    0    0    0   \n",
       "\n",
       "     22   23  24  25  26  27  \n",
       "0     0    0   0   0   0   0  \n",
       "1     0    0   0   0   0   0  \n",
       "2     0    0   0   0   0   0  \n",
       "3     0    0   0   0   0   0  \n",
       "4     0    0   0   0   0   0  \n",
       "5   247  127   0   0   0   0  \n",
       "6   195   64   0   0   0   0  \n",
       "7    39    0   0   0   0   0  \n",
       "8     0    0   0   0   0   0  \n",
       "9     0    0   0   0   0   0  \n",
       "10    0    0   0   0   0   0  \n",
       "11    0    0   0   0   0   0  \n",
       "12    0    0   0   0   0   0  \n",
       "13    0    0   0   0   0   0  \n",
       "14    0    0   0   0   0   0  \n",
       "15    0    0   0   0   0   0  \n",
       "16    0    0   0   0   0   0  \n",
       "17    0    0   0   0   0   0  \n",
       "18    0    0   0   0   0   0  \n",
       "19    0    0   0   0   0   0  \n",
       "20    0    0   0   0   0   0  \n",
       "21    0    0   0   0   0   0  \n",
       "22    0    0   0   0   0   0  \n",
       "23    0    0   0   0   0   0  \n",
       "24    0    0   0   0   0   0  \n",
       "25    0    0   0   0   0   0  \n",
       "26    0    0   0   0   0   0  \n",
       "27    0    0   0   0   0   0  \n",
       "\n",
       "[28 rows x 28 columns]"
      ]
     },
     "execution_count": 13,
     "metadata": {},
     "output_type": "execute_result"
    }
   ],
   "source": [
    "pd.DataFrame(x_train[0])"
   ]
  },
  {
   "cell_type": "code",
   "execution_count": 14,
   "id": "1ba8c779",
   "metadata": {},
   "outputs": [
    {
     "data": {
      "image/png": "[encoded data removed]",
      "text/plain": [
       "<Figure size 640x480 with 1 Axes>"
      ]
     },
     "metadata": {},
     "output_type": "display_data"
    }
   ],
   "source": [
    "# This matrix of numbers may be draw as follows:\n",
    "plt.imshow(x_train[0], cmap=plt.cm.binary)\n",
    "plt.show()"
   ]
  },
  {
   "cell_type": "code",
   "execution_count": null,
   "id": "c11b4750",
   "metadata": {},
   "outputs": [],
   "source": [
    "# Let's print some more training examples to get the feeling of how the digits were written\n",
    "numbers_to_display = 25\n",
    "num_cells = math.ceil(math.sqrt(numbers_to_display))\n",
    "plt.figure(figsize=(10, 10))\n",
    "\n",
    "for i in range(numbers_to_display):\n",
    "    plt.subplot(num_cells, num_cells, i+1)\n",
    "    plt.xticks([])\n",
    "    plt.yticks([])    \n",
    "    plt.grid(False)\n",
    "    plt.imshow(x_train[i], cmap=plt.cm.binary)\n",
    "    plt.xlabel(y_train[i])\n",
    "plt.show()"
   ]
  },
  {
   "cell_type": "markdown",
   "id": "060664d8",
   "metadata": {},
   "source": [
    "## Reshaping the data\n",
    "\n",
    "In order to use convolution layers we need to reshape our data and add a color channel to it. As you've noticed currently every digit has a shape of `(28, 28)` which means that it is a 28x28 matrix of color values form `0` to `255`. We need to reshape it to `(28, 28, 1)` shape so that each pixel potentially may have multiple channels (like Red, Green and Blue)."
   ]
  },
  {
   "cell_type": "code",
   "execution_count": null,
   "id": "f820e6c6",
   "metadata": {},
   "outputs": [],
   "source": [
    "(x_train.shape[0],\n",
    "    IMG_WIDTH,\n",
    "    IMG_HEIGHT,\n",
    "    IMG_CHANNELS)"
   ]
  },
  {
   "cell_type": "code",
   "execution_count": null,
   "id": "3c34a584",
   "metadata": {},
   "outputs": [],
   "source": [
    "x_train_with_channels = x_train.reshape(\n",
    "    x_train.shape[0],\n",
    "    IMG_WIDTH,\n",
    "    IMG_HEIGHT,\n",
    "    IMG_CHANNELS\n",
    ")\n",
    "\n",
    "x_test_with_channels = x_test.reshape(\n",
    "    x_test.shape[0],\n",
    "    IMG_WIDTH,\n",
    "    IMG_HEIGHT,\n",
    "    IMG_CHANNELS\n",
    ")"
   ]
  },
  {
   "cell_type": "code",
   "execution_count": null,
   "id": "e3120ed6",
   "metadata": {},
   "outputs": [],
   "source": [
    "print('x_train_with_channels: ', x_train_with_channels.shape)\n",
    "print('x_test_with_channels: ', x_test_with_channels.shape)"
   ]
  },
  {
   "cell_type": "code",
   "execution_count": null,
   "id": "6aec1863",
   "metadata": {},
   "outputs": [],
   "source": [
    "print(x_train_with_channels[0].shape)"
   ]
  },
  {
   "cell_type": "markdown",
   "id": "51d18cfd",
   "metadata": {},
   "source": [
    "## Normalize the data\n",
    "\n",
    "Here we're just trying to move from values range of `[0...255]` to `[0...1]`"
   ]
  },
  {
   "cell_type": "code",
   "execution_count": null,
   "id": "bc59e85f",
   "metadata": {},
   "outputs": [],
   "source": [
    "x_train_normalized = x_train_with_channels / 255\n",
    "x_test_normalized = x_test_with_channels / 255"
   ]
  },
  {
   "cell_type": "code",
   "execution_count": null,
   "id": "c16bb307",
   "metadata": {},
   "outputs": [],
   "source": [
    "x_train_normalized[0]"
   ]
  },
  {
   "cell_type": "code",
   "execution_count": null,
   "id": "f0d26d16",
   "metadata": {},
   "outputs": [],
   "source": [
    "x_train_normalized[0].shape"
   ]
  },
  {
   "cell_type": "markdown",
   "id": "21e08492",
   "metadata": {},
   "source": [
    "# Build the model\n",
    "\n",
    "Build the model\n",
    "\n",
    "We will use [Sequential](https://www.tensorflow.org/api_docs/python/tf/keras/Sequential?version=stable) Keras model.\n",
    "\n",
    "Then we will have two pairs of [Convolution2D](https://www.tensorflow.org/api_docs/python/tf/keras/layers/Conv2D?version=stable) and [MaxPooling2D](https://www.tensorflow.org/api_docs/python/tf/keras/layers/MaxPool2D?version=stable) layers. The MaxPooling layer acts as a sort of downsampling using max values in a region instead of averaging.\n",
    "\n",
    "After that we will use [Flatten](https://www.tensorflow.org/api_docs/python/tf/keras/layers/Flatten?version=stable) layer to convert multidimensional parameters to vector.\n",
    "\n",
    "The las layer will be a [Dense](https://www.tensorflow.org/api_docs/python/tf/keras/layers/Dense?version=stable) layer with `10` [Softmax](https://www.tensorflow.org/api_docs/python/tf/keras/activations/softmax?version=stable) outputs. The output represents the network guess. The 0-th output represents a probability that the input digit is `0`, the 1-st output represents a probability that the input digit is `1` and so on..."
   ]
  },
  {
   "cell_type": "markdown",
   "id": "34bbe469",
   "metadata": {},
   "source": [
    "### Layers explain\n",
    "\n",
    "`Convolution2D (Conv2D):`\n",
    "A camada Convolution2D é uma camada de convolução 2D usada em redes neurais convolucionais (ConvNets). Ela é frequentemente usada para extrair características de imagens. A convolução 2D envolve a aplicação de um conjunto de filtros em uma imagem de entrada, onde cada filtro é responsável por detectar padrões específicos. Os filtros percorrem a imagem com uma janela deslizante, multiplicam seus valores pelos valores correspondentes da imagem e somam os resultados. Isso cria um mapa de características, que destaca as regiões relevantes da imagem.\n",
    "\n",
    "`MaxPooling2D:`\n",
    "A camada MaxPooling2D é usada para reduzir a dimensionalidade dos mapas de características gerados pelas camadas de convolução. Ela opera em janelas deslizantes, selecionando o valor máximo em cada região. Isso reduz o tamanho espacial dos mapas de características, preservando as características mais importantes. A redução da dimensionalidade ajuda a diminuir a quantidade de parâmetros na rede neural e a extrair características mais robustas.\n",
    "\n",
    "`Flatten:`\n",
    "A camada Flatten é usada para \"achatar\" os dados de entrada em um vetor unidimensional. Ela converte uma matriz de entrada multidimensional em um vetor, que pode ser usado como entrada para uma camada densa (totalmente conectada). Essa camada é comumente usada para conectar as camadas de convolução/max pooling às camadas densas finais da rede neural.\n",
    "\n",
    "`Dense:`\n",
    "A camada Dense é uma camada de rede neural totalmente conectada, em que cada neurônio na camada anterior está conectado a cada neurônio na camada seguinte. Ela é responsável por computar combinações lineares dos valores de entrada e aplicar uma função de ativação a essas combinações. A camada Dense é usada para aprendizado e tomada de decisão com base nos recursos extraídos pelas camadas anteriores.\n",
    "\n",
    "`Dropout:`\n",
    "A camada Dropout é usada para combater o overfitting em redes neurais. Ela desativa aleatoriamente um número especificado de neurônios durante o treinamento em cada passagem. Isso ajuda a prevenir a dependência excessiva de neurônios específicos e torna a rede neural mais robusta e menos suscetível a overfitting. O Dropout regulariza a rede, forçando-a a aprender representações redundantes dos dados, o que geralmente melhora o desempenho em dados de teste não vistos."
   ]
  },
  {
   "cell_type": "code",
   "execution_count": null,
   "id": "7931e4ae",
   "metadata": {},
   "outputs": [],
   "source": [
    "# Create model\n",
    "model = tf.keras.models.Sequential()"
   ]
  },
  {
   "cell_type": "code",
   "execution_count": null,
   "id": "f76b17b7",
   "metadata": {},
   "outputs": [],
   "source": [
    "from tensorflow.keras.layers import Convolution2D, MaxPooling2D, Flatten, Dense, Dropout"
   ]
  },
  {
   "cell_type": "markdown",
   "id": "fe911391",
   "metadata": {},
   "source": [
    "## Add layers"
   ]
  },
  {
   "cell_type": "markdown",
   "id": "597390b2",
   "metadata": {},
   "source": [
    "### Convolution 2D\n",
    "\n",
    "- `input_shape`: Este parâmetro define a forma de entrada dos dados para a camada convolucional. No caso dado, a forma de entrada é (IMG_WIDTH, IMG_HEIGHT, IMG_CHANNELS), onde IMG_WIDTH representa a largura da imagem de entrada, IMG_HEIGHT representa a altura da imagem de entrada e IMG_CHANNELS representa o número de canais de cor da imagem (geralmente 3 para imagens RGB).\n",
    "<br><br>\n",
    "- `kernel_size`: Este parâmetro especifica o tamanho do kernel ou filtro convolucional. No código fornecido, o valor é definido como 5, o que significa que o kernel convolucional terá uma dimensão de 5x5.\n",
    "<br><br>\n",
    "- `filters`: Este parâmetro indica o número de filtros convolucionais a serem aplicados na camada. No código dado, o valor é definido como 8, o que significa que haverá 8 filtros convolucionais.\n",
    "<br><br>\n",
    "- `strides`: Este parâmetro define o passo da convolução, ou seja, quantos pixels o filtro se move a cada passo. No código fornecido, o valor é definido como 1, o que significa que o filtro se moverá 1 pixel por vez.\n",
    "<br><br>\n",
    "- `activation`: Este parâmetro especifica a função de ativação a ser aplicada após a operação de convolução. No código dado, a função tf.keras.activations.relu é usada, que representa a ativação ReLU (Rectified Linear Unit), que é comumente usada para introduzir não-linearidade nas redes neurais convolucionais.\n",
    "<br><br>\n",
    "- `kernel_initializer`: Este parâmetro define o método de inicialização dos pesos do kernel convolucional. No código fornecido, tf.keras.initializers.VarianceScaling() é usado como inicializador de pesos, que inicializa os pesos de acordo com uma escala de variação, o que ajuda a melhorar a convergência durante o treinamento da rede."
   ]
  },
  {
   "cell_type": "code",
   "execution_count": null,
   "id": "1d0add28",
   "metadata": {},
   "outputs": [],
   "source": [
    "# Convolution 2D\n",
    "model.add(Convolution2D(\n",
    "    input_shape=(IMG_WIDTH, IMG_HEIGHT, IMG_CHANNELS),\n",
    "    kernel_size=5,\n",
    "    filters=8,\n",
    "    strides=1,\n",
    "    activation=tf.keras.activations.relu,\n",
    "    kernel_initializer=tf.keras.initializers.VarianceScaling()\n",
    "))"
   ]
  },
  {
   "cell_type": "markdown",
   "id": "4df8a627",
   "metadata": {},
   "source": [
    "### MaxPooling2D\n",
    "\n",
    "- `pool_size`: Este parâmetro define o tamanho da janela de pooling. No código fornecido, o valor é definido como (2, 2), o que significa que será usada uma janela de pooling 2x2.\n",
    "<br><br>\n",
    "- `strides`: Este parâmetro define o passo da janela de pooling. No código fornecido, o valor é definido como (2, 2), o que significa que a janela de pooling será movida 2 pixels verticalmente e 2 pixels horizontalmente a cada passo."
   ]
  },
  {
   "cell_type": "code",
   "execution_count": null,
   "id": "7e84cf7d",
   "metadata": {},
   "outputs": [],
   "source": [
    "model.add(MaxPooling2D(\n",
    "    pool_size=(2, 2),\n",
    "    strides=(2, 2)\n",
    "))"
   ]
  },
  {
   "cell_type": "code",
   "execution_count": null,
   "id": "db751996",
   "metadata": {},
   "outputs": [],
   "source": [
    "model.add(Convolution2D(\n",
    "    kernel_size=5,\n",
    "    filters=16,\n",
    "    strides=1,\n",
    "    activation=tf.keras.activations.relu,\n",
    "    kernel_initializer=tf.keras.initializers.VarianceScaling()\n",
    "))"
   ]
  },
  {
   "cell_type": "code",
   "execution_count": null,
   "id": "1804f83d",
   "metadata": {},
   "outputs": [],
   "source": [
    "model.add(MaxPooling2D(\n",
    "    pool_size=(2, 2),\n",
    "    strides=(2, 2)\n",
    "))"
   ]
  },
  {
   "cell_type": "code",
   "execution_count": null,
   "id": "37f5cbc1",
   "metadata": {},
   "outputs": [],
   "source": [
    "model.add(Flatten())"
   ]
  },
  {
   "cell_type": "code",
   "execution_count": null,
   "id": "25c5b2f6",
   "metadata": {},
   "outputs": [],
   "source": [
    "model.add(Dropout(.2))"
   ]
  },
  {
   "cell_type": "markdown",
   "id": "ce645993",
   "metadata": {},
   "source": [
    "### Dense\n",
    "\n",
    "- `units`: Este parâmetro define o número de unidades ou neurônios na camada densa. No código fornecido, o valor é definido como 10, o que significa que a camada densa terá 10 neurônios.\n",
    "<br><br>\n",
    "- `activation`: Este parâmetro especifica a função de ativação a ser aplicada às saídas da camada densa. No código dado, a função tf.keras.activations.softmax é usada como função de ativação. A função softmax é comumente usada na camada de saída de classificação multiclasse para normalizar as saídas em uma distribuição de probabilidade sobre as diferentes classes.\n",
    "<br><br>\n",
    "- `kernel_initializer`: Este parâmetro define o método de inicialização dos pesos da camada densa. No código fornecido, tf.keras.initializers.VarianceScaling() é usado como inicializador de pesos, que inicializa os pesos de acordo com uma escala de variação, assim como na camada de convolução."
   ]
  },
  {
   "cell_type": "code",
   "execution_count": null,
   "id": "abbd06ad",
   "metadata": {},
   "outputs": [],
   "source": [
    "model.add(Dense(\n",
    "    units=10,\n",
    "    activation=tf.keras.activations.softmax,\n",
    "    kernel_initializer=tf.keras.initializers.VarianceScaling()\n",
    "))"
   ]
  },
  {
   "cell_type": "code",
   "execution_count": null,
   "id": "d1a8942e",
   "metadata": {},
   "outputs": [],
   "source": [
    "# Here is our model summary so far\n",
    "model.summary()"
   ]
  },
  {
   "cell_type": "markdown",
   "id": "203b74df",
   "metadata": {},
   "source": [
    "In order to plot the model the `graphviz` should be installed. For Mac OS it may be installed using `brew` like `brew install graphviz`."
   ]
  },
  {
   "cell_type": "code",
   "execution_count": null,
   "id": "99a54b41",
   "metadata": {},
   "outputs": [],
   "source": [
    "tf.keras.utils.plot_model(\n",
    "    model,\n",
    "    show_shapes=True, \n",
    "    show_layer_names=True\n",
    ")"
   ]
  },
  {
   "cell_type": "markdown",
   "id": "41ab638b",
   "metadata": {},
   "source": [
    "## Compile the model\n",
    "\n",
    "- `optimizer`: Esse parâmetro especifica o otimizador a ser usado durante o treinamento do modelo. No código fornecido, adam_optimizer é usado como otimizador. O adam_optimizer provavelmente é uma instância da classe tf.keras.optimizers.Adam, que é uma implementação do algoritmo de otimização Adam. O otimizador Adam é amplamente utilizado em redes neurais devido à sua eficiência e bons resultados em muitos cenários de aprendizado profundo.\n",
    "<br><br>\n",
    "- `loss`: Este parâmetro especifica a função de perda a ser usada durante o treinamento do modelo. No código fornecido, tf.keras.losses.sparse_categorical_crossentropy é usado como função de perda. Essa função de perda é comumente usada em tarefas de classificação multiclasse, onde as classes são representadas como rótulos inteiros (por exemplo, 0, 1, 2, ...) em vez de codificação one-hot.\n",
    "<br><br>\n",
    "- `metrics`: Esta lista especifica as métricas a serem avaliadas durante o treinamento e teste do modelo. No código fornecido, a lista contém apenas uma métrica, que é 'accuracy', indicando que a precisão será calculada durante o treinamento e teste do modelo."
   ]
  },
  {
   "cell_type": "code",
   "execution_count": null,
   "id": "783fe3b5",
   "metadata": {},
   "outputs": [],
   "source": [
    "adam_optimizer = tf.keras.optimizers.Adam(learning_rate=.001)\n",
    "\n",
    "model.compile(\n",
    "    optimizer=adam_optimizer,\n",
    "    loss=tf.keras.losses.sparse_categorical_crossentropy,\n",
    "    metrics=['accuracy']\n",
    ")"
   ]
  },
  {
   "cell_type": "code",
   "execution_count": null,
   "id": "bb38be93",
   "metadata": {},
   "outputs": [],
   "source": [
    "log_dir = f'.logs/fit/{datetime.datetime.now().strftime(\"%Y%m%d-%H%M%S\")}'\n",
    "tensorboard_callback = tf.keras.callbacks.TensorBoard(\n",
    "    log_dir=log_dir,\n",
    "    histogram_freq=1\n",
    ")"
   ]
  },
  {
   "cell_type": "code",
   "execution_count": null,
   "id": "c25387de",
   "metadata": {},
   "outputs": [],
   "source": [
    "training_history = model.fit(\n",
    "    x_train_normalized,\n",
    "    y_train,\n",
    "    epochs=10,\n",
    "    validation_data=(x_test_normalized, y_test),\n",
    "    callbacks=[tensorboard_callback]\n",
    ")"
   ]
  },
  {
   "cell_type": "markdown",
   "id": "01277785",
   "metadata": {},
   "source": [
    "Let's see how the loss function was changing during the training. We expect it to get smaller and smaller on every next epoch."
   ]
  },
  {
   "cell_type": "code",
   "execution_count": null,
   "id": "9680956a",
   "metadata": {},
   "outputs": [],
   "source": [
    "plt.xlabel('Epoch Number')\n",
    "plt.ylabel('Loss')\n",
    "plt.plot(training_history.history['loss'], label='training set')\n",
    "plt.plot(training_history.history['val_loss'], label='test set')\n",
    "plt.legend()"
   ]
  },
  {
   "cell_type": "code",
   "execution_count": null,
   "id": "7fb55b95",
   "metadata": {},
   "outputs": [],
   "source": [
    "plt.xlabel('Epoch Number')\n",
    "plt.ylabel('Accuracy')\n",
    "plt.plot(training_history.history['accuracy'], label='training set')\n",
    "plt.plot(training_history.history['val_accuracy'], label='test set')\n",
    "plt.legend()"
   ]
  },
  {
   "cell_type": "markdown",
   "id": "432d426d",
   "metadata": {},
   "source": [
    "## Evaluate model accuracy\n",
    "\n",
    "We need to compare the accuracy of our model on **training** set and on **test** set. We expect our model to perform similarly on both sets. If the performance on a test set will be poor comparing to a training set it would be an indicator for us that the model is overfitted and we have a \"high variance\" issue."
   ]
  },
  {
   "cell_type": "markdown",
   "id": "165165ae",
   "metadata": {},
   "source": [
    "### Training set accuracy"
   ]
  },
  {
   "cell_type": "code",
   "execution_count": null,
   "id": "0bd6ceb5",
   "metadata": {},
   "outputs": [],
   "source": [
    "%%capture\n",
    "train_loss, train_accuracy = model.evaluate(x_train_normalized, y_train)"
   ]
  },
  {
   "cell_type": "code",
   "execution_count": null,
   "id": "152f8f5d",
   "metadata": {},
   "outputs": [],
   "source": [
    "print('Training loss: ', train_loss)\n",
    "print('Training accuracy: ', train_accuracy)"
   ]
  },
  {
   "cell_type": "markdown",
   "id": "ac9cba27",
   "metadata": {},
   "source": [
    "### Test set accuracy"
   ]
  },
  {
   "cell_type": "code",
   "execution_count": null,
   "id": "3d222aef",
   "metadata": {},
   "outputs": [],
   "source": [
    "%%capture \n",
    "validation_loss, validation_accuracy = model.evaluate(x_test_normalized, y_test)"
   ]
  },
  {
   "cell_type": "code",
   "execution_count": null,
   "id": "0eb7781b",
   "metadata": {},
   "outputs": [],
   "source": [
    "print('Validation loss: ', validation_loss)\n",
    "print('Validation accuracy: ', validation_accuracy)"
   ]
  },
  {
   "cell_type": "markdown",
   "id": "a8da5963",
   "metadata": {},
   "source": [
    "## Save the model\n",
    "\n",
    "We will save the entire model to a `HDF5` file. The `.h5` extension of the file indicates that the model shuold be saved in Keras format as HDF5 file. To use this model on the front-end we will convert it (later in this notebook) to Javascript understandable format (`tfjs_layers_model` with .json and .bin files) using [tensorflowjs_converter](https://www.tensorflow.org/js/tutorials/conversion/import_saved_model) as it is specified in the [main README](https://github.com/trekhleb/machine-learning-experiments)."
   ]
  },
  {
   "cell_type": "code",
   "execution_count": null,
   "id": "bfa9db9e",
   "metadata": {},
   "outputs": [],
   "source": [
    "model_name = 'digits_recognition_cnn.h5'\n",
    "model.save(model_name, save_format='h5')"
   ]
  },
  {
   "cell_type": "code",
   "execution_count": null,
   "id": "cd4f8be9",
   "metadata": {},
   "outputs": [],
   "source": [
    "loaded_model = tf.keras.models.load_model(model_name)"
   ]
  },
  {
   "cell_type": "markdown",
   "id": "91a6c8b5",
   "metadata": {},
   "source": [
    "## Use the model (do predictions)\n",
    "\n",
    "To use the model that we've just trained for digits recognition we need to call `predict()` method."
   ]
  },
  {
   "cell_type": "code",
   "execution_count": null,
   "id": "c101f207",
   "metadata": {},
   "outputs": [],
   "source": [
    "prediction_one_hot = loaded_model.predict([x_test_normalized])"
   ]
  },
  {
   "cell_type": "code",
   "execution_count": null,
   "id": "685b434a",
   "metadata": {},
   "outputs": [],
   "source": [
    "print('predictions_one_hot: ', prediction_one_hot.shape)"
   ]
  },
  {
   "cell_type": "markdown",
   "id": "28288a69",
   "metadata": {},
   "source": [
    "Each prediction consists of 10 probabilities (one for each number from `0` to `9`). We need to pick the digit with the highest probability since this would be a digit that our model most confident with."
   ]
  },
  {
   "cell_type": "code",
   "execution_count": null,
   "id": "b11ee5f2",
   "metadata": {},
   "outputs": [],
   "source": [
    "pd.DataFrame(prediction_one_hot)"
   ]
  },
  {
   "cell_type": "code",
   "execution_count": null,
   "id": "bc6da1a8",
   "metadata": {},
   "outputs": [],
   "source": [
    "predictions = np.argmax(prediction_one_hot, axis=1)\n",
    "pd.DataFrame(predictions)"
   ]
  },
  {
   "cell_type": "code",
   "execution_count": null,
   "id": "85c52baa",
   "metadata": {},
   "outputs": [],
   "source": [
    "print(predictions[0])"
   ]
  },
  {
   "cell_type": "code",
   "execution_count": null,
   "id": "3e033547",
   "metadata": {},
   "outputs": [],
   "source": [
    "plt.imshow(x_test_normalized[0].reshape(IMG_WIDTH, IMG_HEIGHT), cmap=plt.cm.binary)\n",
    "plt.show()"
   ]
  },
  {
   "cell_type": "markdown",
   "id": "ceabf571",
   "metadata": {},
   "source": [
    "We see that our model made a correct prediction and it successfully recognized digit `7`. Let's print some more test examples and correspondent predictions to see how model performs and where it does mistakes."
   ]
  },
  {
   "cell_type": "code",
   "execution_count": null,
   "id": "86123b34",
   "metadata": {},
   "outputs": [],
   "source": [
    "numbers_to_display = 196\n",
    "num_cells = math.ceil(math.sqrt(numbers_to_display))\n",
    "plt.figure(figsize=(15, 15))\n",
    "\n",
    "for plot_index in range(numbers_to_display):    \n",
    "    predicted_label = predictions[plot_index]\n",
    "    plt.xticks([])\n",
    "    plt.yticks([])\n",
    "    plt.grid(False)\n",
    "    color_map = 'Greens' if predicted_label == y_test[plot_index] else 'Reds'\n",
    "    plt.subplot(num_cells, num_cells, plot_index + 1)\n",
    "    plt.imshow(x_test_normalized[plot_index].reshape((IMG_WIDTH, IMG_HEIGHT)), cmap=color_map)\n",
    "    plt.xlabel(predicted_label)\n",
    "\n",
    "plt.subplots_adjust(hspace=1, wspace=0.5)\n",
    "plt.show()"
   ]
  },
  {
   "cell_type": "markdown",
   "id": "65f9fe52",
   "metadata": {},
   "source": [
    "## Plotting a confusion matrix\n",
    "\n",
    "[Confusion matrix](https://en.wikipedia.org/wiki/Confusion_matrix) shows what numbers are recognized well by the model and what numbers the model usually confuses to recognize correctly. You may see that the model performs really well but sometimes (28 times out of 10000) it may confuse number `5` with `3` or number `2` with `3`."
   ]
  },
  {
   "cell_type": "code",
   "execution_count": null,
   "id": "ff14074c",
   "metadata": {},
   "outputs": [],
   "source": [
    "confusion_matrix = tf.math.confusion_matrix(y_test, predictions)\n",
    "f, ax = plt.subplots(figsize=(9, 7))\n",
    "sns.heatmap(\n",
    "    confusion_matrix,\n",
    "    annot=True,\n",
    "    linewidths=.5,\n",
    "    fmt=\"d\",\n",
    "    square=True,\n",
    "    ax=ax\n",
    ")\n",
    "plt.show()"
   ]
  },
  {
   "cell_type": "markdown",
   "id": "05909acc",
   "metadata": {},
   "source": [
    "## Debugging the model with TensorBoard\n",
    "\n",
    "[TensorBoard](https://www.tensorflow.org/tensorboard) is a tool for providing the measurements and visualizations needed during the machine learning workflow. It enables tracking experiment metrics like loss and accuracy, visualizing the model graph, projecting embeddings to a lower dimensional space, and much more."
   ]
  },
  {
   "cell_type": "code",
   "execution_count": null,
   "id": "2ce89bae",
   "metadata": {},
   "outputs": [],
   "source": [
    "%tensorboard --logdir .logs/fit"
   ]
  },
  {
   "cell_type": "markdown",
   "id": "e414a029",
   "metadata": {},
   "source": [
    "## Converting the model to web-format\n",
    "\n",
    "To use this model on the web we need to convert it into the format that will be understandable by [tensorflowjs](https://www.tensorflow.org/js). To do so we may use [tfjs-converter](https://github.com/tensorflow/tfjs/tree/master/tfjs-converter) as following:\n",
    "\n",
    "```\n",
    "tensorflowjs_converter --input_format keras \\\n",
    "  ./experiments/digits_recognition_cnn/digits_recognition_cnn.h5 \\\n",
    "  ./demos/public/models/digits_recognition_cnn\n",
    "```\n",
    "\n",
    "You find this experiment in the [Demo app](https://trekhleb.github.io/machine-learning-experiments) and play around with it right in you browser to see how the model performs in real life."
   ]
  },
  {
   "cell_type": "code",
   "execution_count": null,
   "id": "6495248c",
   "metadata": {},
   "outputs": [],
   "source": []
  }
 ],
 "metadata": {
  "kernelspec": {
   "display_name": "Python 3 (ipykernel)",
   "language": "python",
   "name": "python3"
  },
  "language_info": {
   "codemirror_mode": {
    "name": "ipython",
    "version": 3
   },
   "file_extension": ".py",
   "mimetype": "text/x-python",
   "name": "python",
   "nbconvert_exporter": "python",
   "pygments_lexer": "ipython3",
   "version": "3.10.6"
  }
 },
 "nbformat": 4,
 "nbformat_minor": 5
}
